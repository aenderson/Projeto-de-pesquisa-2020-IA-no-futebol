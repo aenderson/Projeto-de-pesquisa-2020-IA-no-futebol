{
  "nbformat": 4,
  "nbformat_minor": 0,
  "metadata": {
    "colab": {
      "name": "Inteligência artificial no futebol",
      "provenance": [],
      "collapsed_sections": [],
      "include_colab_link": true
    },
    "kernelspec": {
      "name": "python3",
      "display_name": "Python 3"
    }
  },
  "cells": [
    {
      "cell_type": "markdown",
      "metadata": {
        "id": "view-in-github",
        "colab_type": "text"
      },
      "source": [
        "<a href=\"https://colab.research.google.com/github/aenderson/aenderson-Projeto-de-pesquisa-2020-Inteligencia-artificial-no-futebol/blob/main/Intelig%C3%AAncia_artificial_no_futebol.ipynb\" target=\"_parent\"><img src=\"https://colab.research.google.com/assets/colab-badge.svg\" alt=\"Open In Colab\"/></a>"
      ]
    },
    {
      "cell_type": "code",
      "metadata": {
        "id": "JJXbW3n4p-lz"
      },
      "source": [
        "import pandas"
      ],
      "execution_count": null,
      "outputs": []
    },
    {
      "cell_type": "code",
      "metadata": {
        "id": "u9JoooHpwX-Y"
      },
      "source": [
        "#Abrindo arquivo\n",
        "filepath = 'E0.csv'\n",
        "df = pandas.read_csv(filepath)\n",
        "print(df)"
      ],
      "execution_count": null,
      "outputs": []
    },
    {
      "cell_type": "code",
      "metadata": {
        "id": "RNshSjpunuNQ"
      },
      "source": [
        "#Transformando letras em numeros (H = 1, A = 0, D = 0)\n",
        "\n",
        "for i in range(len(df)):\n",
        "  if df.iloc[i,7] == 'H':\n",
        "    df.iloc[i,7] = 1\n",
        "  if df.iloc[i,7] == 'A':\n",
        "    df.iloc[i,7] = 0\n",
        "  if df.iloc[i,7] == 'D':\n",
        "    df.iloc[i,7] = 0"
      ],
      "execution_count": null,
      "outputs": []
    },
    {
      "cell_type": "code",
      "metadata": {
        "id": "Ol4w8YJhoyer"
      },
      "source": [
        "extract = [12,13,14,15,16,17,18,19,20,21,22,23,24,26,27,29,30,32,33,35,36,38,39,41,7]\n",
        "df = df.iloc[:, extract]\n",
        "print(df)"
      ],
      "execution_count": null,
      "outputs": []
    },
    {
      "cell_type": "code",
      "metadata": {
        "id": "ju3mbdv8Tz9b"
      },
      "source": [
        "#normalizando os dados entre 0 e 1\n",
        "for i in range(len(df.columns)):\n",
        "  print((df.iloc[:, i].max()))\n",
        "  max = (df.iloc[:, i].max())\n",
        "  if max < 10:\n",
        "    df.iloc[:, i] /= 10\n",
        "  elif max < 100:\n",
        "    df.iloc[:, i] /= 100\n",
        "  elif max < 1000:\n",
        "    df.iloc[:, i] /= 1000\n",
        "  else:\n",
        "    df.iloc[:, i] /= 10000\n",
        "print(df)"
      ],
      "execution_count": null,
      "outputs": []
    },
    {
      "cell_type": "code",
      "metadata": {
        "id": "JLClGlRMXKPy"
      },
      "source": [
        "# embaralhando os dados\n",
        "df = df.sample(frac=1)\n",
        "print(df)"
      ],
      "execution_count": null,
      "outputs": []
    },
    {
      "cell_type": "code",
      "metadata": {
        "id": "qGie8zm1Vrs4"
      },
      "source": [
        "# separando dados de treino e teste\n",
        "for i in range(len(df)):\n",
        "  if df.iloc[i, 24] == 0.1:\n",
        "    df.iloc[i, 24] = 1\n",
        "\n",
        "treino = df.iloc[: -24]\n",
        "test = df.iloc[-20 :]\n",
        "print(treino)\n",
        "print(test)"
      ],
      "execution_count": null,
      "outputs": []
    },
    {
      "cell_type": "code",
      "metadata": {
        "id": "6uLEI24AXX1I"
      },
      "source": [
        "# dividindo os dados entre input e output\n",
        "treino_input = treino.iloc[:, :-1]\n",
        "treino_output = treino.iloc[:, 24:]\n",
        "print(treino_input)\n",
        "print(treino_output)\n",
        "\n",
        "test_input = test.iloc[:, :-1]\n",
        "test_output = test.iloc[:, 24:]\n",
        "print(test_input)\n",
        "print(test_output)"
      ],
      "execution_count": null,
      "outputs": []
    },
    {
      "cell_type": "code",
      "metadata": {
        "id": "0fYWFpXSXsuc"
      },
      "source": [
        "import torch\n",
        "import numpy as np"
      ],
      "execution_count": null,
      "outputs": []
    },
    {
      "cell_type": "code",
      "metadata": {
        "id": "HYvKKRKASFiM"
      },
      "source": [
        "class Net(torch.nn.Module):\n",
        "    def __init__(self, input_size, hidden_size):\n",
        "        super(Net, self).__init__()\n",
        "        self.input_size = input_size\n",
        "        self.hidden_size = hidden_size\n",
        "        self.fc1 = torch.nn.Linear(self.input_size, self.hidden_size)\n",
        "        self.relu = torch.nn.ReLU()\n",
        "        self.fc2 = torch.nn.Linear(self.hidden_size, 1)\n",
        "        self.sigmoid = torch.nn.Sigmoid() \n",
        "    def forward(self, x):\n",
        "        hidden = self.fc1(x)\n",
        "        relu = self.relu(hidden)\n",
        "        output = self.fc2(relu)\n",
        "        output = self.sigmoid(output)\n",
        "        return output"
      ],
      "execution_count": null,
      "outputs": []
    },
    {
      "cell_type": "code",
      "metadata": {
        "id": "m5LrUd7oXxJa"
      },
      "source": [
        "# convertendo para tensors\n",
        "treino_input = treino_input.astype(np.float)\n",
        "treino_input = torch.FloatTensor(treino_input.values)\n",
        "treino_output = treino_output.astype(np.float)\n",
        "treino_output = torch.FloatTensor(treino_output.values)\n",
        "test_input = test_input.astype(np.float)\n",
        "test_input = torch.FloatTensor(test_input.values)\n",
        "test_output = test_output.astype(np.float)\n",
        "test_output = torch.FloatTensor(test_output.values)\n",
        "print(type(treino_input))\n",
        "print(treino_input.size())\n",
        "print(type(treino_output))\n",
        "print(treino_output.size())\n",
        "print(type(test_input))\n",
        "print(test_input.size())\n",
        "print(type(test_output))\n",
        "print(test_output.size())"
      ],
      "execution_count": null,
      "outputs": []
    },
    {
      "cell_type": "code",
      "metadata": {
        "id": "qmdOY1H_X1PM"
      },
      "source": [
        "input_size = treino_input.size()[1]\n",
        "hidden_size = 30\n",
        "model = Net(input_size, hidden_size)\n",
        "criterion = torch.nn.BCELoss()\n",
        "optimizer = torch.optim.SGD(model.parameters(), lr = 0.8, momentum=0.3)"
      ],
      "execution_count": null,
      "outputs": []
    },
    {
      "cell_type": "code",
      "metadata": {
        "id": "9A5Rjq_cX6fR"
      },
      "source": [
        "model.eval()\n",
        "y_pred = model(test_input)\n",
        "before_train = criterion(y_pred.squeeze(), test_output.squeeze())\n",
        "print('Perda antes do treinamento' , before_train.item())"
      ],
      "execution_count": null,
      "outputs": []
    },
    {
      "cell_type": "code",
      "metadata": {
        "id": "iS3oTQZ9YWIh"
      },
      "source": [
        "model.train()\n",
        "epochs = 45000\n",
        "errors = []\n",
        "for epoch in range(epochs):\n",
        "    optimizer.zero_grad()\n",
        "    # Forward pass\n",
        "    y_pred = model(treino_input)\n",
        "    # Compute Loss\n",
        "    loss = criterion(y_pred.squeeze(), treino_output.squeeze())\n",
        "    errors.append(loss.item())\n",
        "    if epoch % 1000 == 0:\n",
        "      print('Epoch {}: train loss: {}'.format(epoch, loss.item()))\n",
        "    # Backward pass\n",
        "    loss.backward()\n",
        "    optimizer.step()"
      ],
      "execution_count": null,
      "outputs": []
    },
    {
      "cell_type": "code",
      "metadata": {
        "id": "sKYfKU38Ya0B"
      },
      "source": [
        "model.eval()\n",
        "y_pred = model(test_input)\n",
        "after_train = criterion(y_pred.squeeze(), test_output.squeeze())\n",
        "print('Perda depois do treinamento' , after_train.item())"
      ],
      "execution_count": null,
      "outputs": []
    },
    {
      "cell_type": "code",
      "metadata": {
        "id": "6o1Qkm6EYgJu"
      },
      "source": [
        "import matplotlib.pyplot as plt\n",
        "import numpy as np\n",
        "def plotcharts(errors):\n",
        "    errors = np.array(errors)\n",
        "    plt.figure(figsize=(12, 5))\n",
        "    graf02 = plt.subplot(1, 2, 1) # nrows, ncols, index\n",
        "    graf02.set_title('Errors')\n",
        "    plt.plot(errors, '-')\n",
        "    plt.xlabel('Epochs')\n",
        "    graf03 = plt.subplot(1, 2, 2)\n",
        "    graf03.set_title('Tests')\n",
        "    a = plt.plot(test_output.numpy(), 'yo', label='Real')\n",
        "    plt.setp(a, markersize=10)\n",
        "    a = plt.plot(y_pred.detach().numpy(), 'b+', label='Predicted')\n",
        "    plt.setp(a, markersize=10)\n",
        "    plt.legend(loc=7)\n",
        "    plt.show()\n",
        "plotcharts(errors)"
      ],
      "execution_count": null,
      "outputs": []
    }
  ]
}